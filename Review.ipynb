{
 "cells": [
  {
   "cell_type": "markdown",
   "metadata": {},
   "source": [
    "# Introduction\n",
    "\n",
    "Before we start, let's have a quick recap of the lecture.\n",
    "\n",
    "## Numpy\n",
    "\n",
    "Numpy is a very famous open-source Python package for scientific computing and is used very often in the field of machine learning researches. By using vectorization and pre-compiled binaries, Numpy greatly accelerate our computation which would otherwise take a long time normally in plain Python. Here's an example,\n"
   ]
  },
  {
   "cell_type": "code",
   "execution_count": 1,
   "metadata": {},
   "outputs": [
    {
     "name": "stdout",
     "output_type": "stream",
     "text": [
      "333332833333500000\n",
      "the operation took 0.1813645362854004 seconds\n"
     ]
    }
   ],
   "source": [
    "import time\n",
    "\n",
    "x = list(range(1000000))\n",
    "y = list(range(1000000))\n",
    "count = 0\n",
    "start_time = time.time()\n",
    "for x, y in zip(x, y):\n",
    "    count += x * y\n",
    "print(count)\n",
    "end_time = time.time()\n",
    "print(f'the operation took {end_time - start_time} seconds')"
   ]
  },
  {
   "cell_type": "code",
   "execution_count": 2,
   "metadata": {},
   "outputs": [
    {
     "name": "stdout",
     "output_type": "stream",
     "text": [
      "333332833333500000\n",
      "the operation took 0.006233692169189453 seconds\n"
     ]
    }
   ],
   "source": [
    "import numpy as np\n",
    "\n",
    "x = np.arange(1000000)\n",
    "y = np.arange(1000000)\n",
    "start_time = time.time()\n",
    "count = (x * y).sum()\n",
    "print(count)\n",
    "end_time = time.time()\n",
    "print(f'the operation took {end_time - start_time} seconds')"
   ]
  },
  {
   "cell_type": "markdown",
   "metadata": {},
   "source": [
    "While it's not like we very often need to sum up arrays of a million elementse, Numpy also provide many useful function for getting statics. For example, standard deviation, mean, media etc. Also there are lots of functions of generating randoms, which are very important and useful for scientific researches, especially machine learning.\n"
   ]
  },
  {
   "cell_type": "markdown",
   "metadata": {},
   "source": [
    "# Array\n",
    "\n",
    "All numpy array is under the class `numpy.ndarray`. Compare to the original List in Python, there isn't much difference between the two except the fact that `numpy.ndarray` has a fixed size after construct. That means both `numpy.array` and `List` can store any thing we assign to it. However, one important thing is that most of the operations in Numpy requires the array to have numerical types. Another problems that might arise with such versitility is that some operations might require specific type of the data. If we don't take extra pre-cautions to the data types of the array, it could cause catastrophic results. (Imagine you have trained a model for 2 days only to find that the data type is wrong and the result is garbbage.)\n"
   ]
  },
  {
   "cell_type": "code",
   "execution_count": 15,
   "metadata": {},
   "outputs": [
    {
     "name": "stdout",
     "output_type": "stream",
     "text": [
      "The type of numpy array is <class 'numpy.ndarray'>\n",
      "The data type of the array is object\n"
     ]
    },
    {
     "ename": "TypeError",
     "evalue": "unsupported operand type(s) for +: 'EmptyClass' and 'int'",
     "output_type": "error",
     "traceback": [
      "\u001b[0;31m---------------------------------------------------------------------------\u001b[0m",
      "\u001b[0;31mTypeError\u001b[0m                                 Traceback (most recent call last)",
      "\u001b[0;32m/tmp/ipykernel_1471373/1442880785.py\u001b[0m in \u001b[0;36m<module>\u001b[0;34m\u001b[0m\n\u001b[1;32m      3\u001b[0m \u001b[0mprint\u001b[0m\u001b[0;34m(\u001b[0m\u001b[0;34mf'The type of numpy array is {type(x := np.array([1,2,3, EmptyClass()]))}'\u001b[0m\u001b[0;34m)\u001b[0m \u001b[0;31m# := is only available after python 3.8\u001b[0m\u001b[0;34m\u001b[0m\u001b[0;34m\u001b[0m\u001b[0m\n\u001b[1;32m      4\u001b[0m \u001b[0mprint\u001b[0m\u001b[0;34m(\u001b[0m\u001b[0;34mf'The data type of the array is {x.dtype}'\u001b[0m\u001b[0;34m)\u001b[0m\u001b[0;34m\u001b[0m\u001b[0;34m\u001b[0m\u001b[0m\n\u001b[0;32m----> 5\u001b[0;31m \u001b[0mx\u001b[0m \u001b[0;34m+\u001b[0m \u001b[0;36m1\u001b[0m\u001b[0;34m\u001b[0m\u001b[0;34m\u001b[0m\u001b[0m\n\u001b[0m",
      "\u001b[0;31mTypeError\u001b[0m: unsupported operand type(s) for +: 'EmptyClass' and 'int'"
     ]
    }
   ],
   "source": [
    "class EmptyClass:\n",
    "    pass\n",
    "\n",
    "\n",
    "print(f'The type of numpy array is {type(x := np.array([1,2,3, EmptyClass()]))}')  # := is only available after python 3.8\n",
    "print(f'The data type of the array is {x.dtype}')\n",
    "x + 1  # This line causes to error!\n"
   ]
  },
  {
   "cell_type": "markdown",
   "metadata": {},
   "source": [
    "## Creating an numpy array\n",
    "\n",
    "There are many functions provided by numpy to create arrays. Here are some of the examples:\n"
   ]
  },
  {
   "cell_type": "code",
   "execution_count": 24,
   "metadata": {},
   "outputs": [
    {
     "name": "stdout",
     "output_type": "stream",
     "text": [
      "Content of the array\n",
      "[[1 2 3]\n",
      " [2 3 4]]\n",
      "Shape of the array (2, 3)\n",
      "Content of the array\n",
      "[[1 1 1]\n",
      " [1 1 1]]\n",
      "Shape of the array (2, 3)\n",
      "Content of the array\n",
      "[[0. 0. 0.]\n",
      " [0. 0. 0.]]\n",
      "Shape of the array (2, 3)\n",
      "Content of the array\n",
      "[[[1. 1. 1.]\n",
      "  [1. 1. 1.]\n",
      "  [1. 1. 1.]]\n",
      "\n",
      " [[1. 1. 1.]\n",
      "  [1. 1. 1.]\n",
      "  [1. 1. 1.]]\n",
      "\n",
      " [[1. 1. 1.]\n",
      "  [1. 1. 1.]\n",
      "  [1. 1. 1.]]]\n",
      "Shape of the array (3, 3, 3)\n",
      "Content of the array\n",
      "[0 1 2 3 4 5 6 7 8 9]\n",
      "Shape of the array (10,)\n"
     ]
    }
   ],
   "source": [
    "def print_array(arr):\n",
    "    print(f'Content of the array\\n{arr}\\nShape of the array {arr.shape}')\n",
    "\n",
    "\n",
    "a = np.array([[1, 2, 3], [2, 3, 4]])  # Create array from other iterables (e.g. List)\n",
    "b = np.ones_like(a)  # Create array with same shape and same type as a\n",
    "c = np.zeros(a.shape)  # Create array with shape of other array\n",
    "d = np.ones((3, 3, 3))  # Create array with provided shape (3, 3, 3)\n",
    "e = np.arange(10)  # Create array with 10 consective numbers starting from 0\n",
    "print_array(a)\n",
    "print_array(b)\n",
    "print_array(c)\n",
    "print_array(d)\n",
    "print_array(e)"
   ]
  },
  {
   "cell_type": "markdown",
   "metadata": {},
   "source": [
    "## Attributes of numpy array\n",
    "\n",
    "As shown above, we have access attribute `shape` of the array. This shows the number of elements on each axis. Later in the lab when we mentioned first axis, nth axis, it would be derived from this attribute. This also show the order of the dimension when you're indexing the array, which will be discussed later.\n",
    "\n",
    "Other attributes of the array includes,\n",
    "\n",
    "-   ndim\n",
    "-   dtype\n",
    "-   et cetra\n"
   ]
  },
  {
   "cell_type": "code",
   "execution_count": 87,
   "metadata": {},
   "outputs": [
    {
     "name": "stdout",
     "output_type": "stream",
     "text": [
      "(6,)\n",
      "1\n",
      "int64\n"
     ]
    }
   ],
   "source": [
    "a = np.arange(6)\n",
    "print(a.shape)\n",
    "print(a.ndim)\n",
    "print(a.dtype)"
   ]
  },
  {
   "cell_type": "markdown",
   "metadata": {},
   "source": [
    "There are still some different functions that can create new arrays. You can refer to the lecture notes, or you can look into the [official tutorial of Numpy](https://numpy.org/doc/stable/user/basics.creation.html).\n",
    "\n",
    "## Indexing\n",
    "\n",
    "Numpy supports the Pythonic way to index ndarray arrays.\n"
   ]
  },
  {
   "cell_type": "code",
   "execution_count": 49,
   "metadata": {},
   "outputs": [
    {
     "name": "stdout",
     "output_type": "stream",
     "text": [
      "2 the second elements\n",
      "99 the last elements\n",
      "[10 11 12 13 14 15 16 17 18 19] select from index 10 to 20\n",
      "[0 1 2 3 4 5 6 7 8 9] select from index 0 to 10\n",
      "[90 91 92 93 94 95 96 97 98 99] select from index 90 to the end of the list\n",
      "[90 91 92 93 94 95 96 97 98 99] select from index 10 (count from the end of list) to the end of list\n",
      "[ 0  1  2  3  4  5  6  7  8  9 10 11 12 13 14 15 16 17 18 19 20 21 22 23\n",
      " 24 25 26 27 28 29 30 31 32 33 34 35 36 37 38 39 40 41 42 43 44 45 46 47\n",
      " 48 49 50 51 52 53 54 55 56 57 58 59 60 61 62 63 64 65 66 67 68 69 70 71\n",
      " 72 73 74 75 76 77 78 79 80 81 82 83 84 85 86 87 88 89 90 91 92 93 94 95\n",
      " 96 97 98 99] select from the start of list to the end of list\n",
      "[1 3 5] select from index 1 to 7 (excluding 7 itself) with increment 2\n",
      "[7 6 5 4 3 2] select from index 7 to 1 (excluding 1 itself) with increment -1\n"
     ]
    }
   ],
   "source": [
    "a = np.arange(100)\n",
    "print(a[2], 'the second elements')\n",
    "print(a[-1], 'the last elements')\n",
    "print(a[10:20], 'select from index 10 to 20')\n",
    "print(a[:10], 'select from index 0 to 10')\n",
    "print(a[90:], 'select from index 90 to the end of the list')\n",
    "print(a[-10:], 'select from index 10 (count from the end of list) to the end of list')\n",
    "print(a[:], 'select from the start of list to the end of list')\n",
    "print(a[1:7:2], 'select from index 1 to 7 (excluding 7 itself) with increment 2')\n",
    "print(a[7:1:-1], 'select from index 7 to 1 (excluding 1 itself) with increment -1')\n"
   ]
  },
  {
   "cell_type": "markdown",
   "metadata": {},
   "source": [
    "When there are more than 1 dimension, we can either do `a[0][1]` like normal Python code, or `a[0, 1]`. The axis here has the same order as what ```shape``` shows.\n"
   ]
  },
  {
   "cell_type": "code",
   "execution_count": 92,
   "metadata": {},
   "outputs": [
    {
     "name": "stdout",
     "output_type": "stream",
     "text": [
      "[[521 522]\n",
      " [531 532]\n",
      " [541 542]\n",
      " [551 552]]\n",
      "(2, 10, 10)\n"
     ]
    }
   ],
   "source": [
    "a = np.arange(1000).reshape(10, 10, 10)\n",
    "print(a[5, 2:6, 1:3])\n",
    "print(a[3:5, ...].shape)  # We can use ... to select all other dimensions\n"
   ]
  },
  {
   "cell_type": "markdown",
   "metadata": {},
   "source": [
    "## Integer Array Indexing\n",
    "\n",
    "Besides the Pythonic way of indexing (slicing) numpy arrays, there's a more advance way to index numpy arrays using **integer** arrays. (Could be list or numpy.ndarray with integer dtype)\n"
   ]
  },
  {
   "cell_type": "code",
   "execution_count": 54,
   "metadata": {},
   "outputs": [
    {
     "name": "stdout",
     "output_type": "stream",
     "text": [
      "[[0 1]\n",
      " [2 3]\n",
      " [4 5]]\n",
      "[0 3 4]\n"
     ]
    }
   ],
   "source": [
    "a = np.arange(6).reshape(3, 2)\n",
    "print(a)\n",
    "print(a[[0, 1, 2], [0, 1, 0]])  # select from index 0, 1, 2 at first axis and index 0, 1, 0 from second axis\n"
   ]
  },
  {
   "cell_type": "markdown",
   "metadata": {},
   "source": [
    "With the indexing methods above, we can copy and amend the values easily without writing long codes.\n",
    "\n",
    "## Boolean Array Indexing\n",
    "\n",
    "We can also use True and False to choose individual values. However, this is probably more useful when we combine it with [logic functions](https://numpy.org/doc/stable/reference/routines.logic.html) from Numpy.\n"
   ]
  },
  {
   "cell_type": "code",
   "execution_count": 63,
   "metadata": {},
   "outputs": [
    {
     "name": "stdout",
     "output_type": "stream",
     "text": [
      "[0 1 2 4 5 6 7 9]\n"
     ]
    }
   ],
   "source": [
    "a = np.arange(12).reshape(3, 4)\n",
    "selection = np.array([[True, True, True, False], [True, True, True, True], [False, True, False, False]])\n",
    "print(a[selection])  # Boolean Array Indexing\n"
   ]
  },
  {
   "cell_type": "code",
   "execution_count": 67,
   "metadata": {},
   "outputs": [
    {
     "name": "stdout",
     "output_type": "stream",
     "text": [
      "[[ True  True  True  True]\n",
      " [ True  True False False]\n",
      " [False False False  True]]\n"
     ]
    },
    {
     "data": {
      "text/plain": [
       "array([ 0,  1,  2,  3,  4,  5, 11])"
      ]
     },
     "execution_count": 67,
     "metadata": {},
     "output_type": "execute_result"
    }
   ],
   "source": [
    "selection1 = a < 6  # Comparison\n",
    "selection2 = a > 10  # Comparison\n",
    "selection = np.logical_or(selection1, selection2)  # Logical OR\n",
    "selection = selection1 | selection2 # same as previous line\n",
    "print(selection)\n",
    "\n",
    "a[selection]"
   ]
  },
  {
   "cell_type": "markdown",
   "metadata": {},
   "source": [
    "## Data types\n",
    "\n",
    "Numpy array has type. Numpy usually decides the type of the array for us, but sometimes we might want to declare or convert the datatype of the array. E.g. when we're trying to index an array.\n"
   ]
  },
  {
   "cell_type": "code",
   "execution_count": 75,
   "metadata": {},
   "outputs": [
    {
     "name": "stdout",
     "output_type": "stream",
     "text": [
      "int64\n",
      "float64\n",
      "object\n"
     ]
    }
   ],
   "source": [
    "class empty:\n",
    "    pass\n",
    "\n",
    "\n",
    "print(np.array([1, 2]).dtype)\n",
    "print(np.array([1, 2, 3.]).dtype)  # the third element is of type float, float is a more general type than int\n",
    "print(np.array([1, 2, 3., \"https://www.youtube.com/watch?v=dQw4w9WgXcQ\", empty()]).dtype)  # <object> is the most general type in Python\n"
   ]
  },
  {
   "cell_type": "code",
   "execution_count": 79,
   "metadata": {},
   "outputs": [
    {
     "name": "stdout",
     "output_type": "stream",
     "text": [
      "[0 1 2 3 4]\n"
     ]
    },
    {
     "ename": "IndexError",
     "evalue": "arrays used as indices must be of integer (or boolean) type",
     "output_type": "error",
     "traceback": [
      "\u001b[0;31m---------------------------------------------------------------------------\u001b[0m",
      "\u001b[0;31mIndexError\u001b[0m                                Traceback (most recent call last)",
      "\u001b[0;32m/tmp/ipykernel_1471373/1902563597.py\u001b[0m in \u001b[0;36m<module>\u001b[0;34m\u001b[0m\n\u001b[1;32m      3\u001b[0m \u001b[0;34m\u001b[0m\u001b[0m\n\u001b[1;32m      4\u001b[0m \u001b[0mprint\u001b[0m\u001b[0;34m(\u001b[0m\u001b[0ma\u001b[0m\u001b[0;34m[\u001b[0m\u001b[0mb\u001b[0m\u001b[0;34m[\u001b[0m\u001b[0;34m:\u001b[0m\u001b[0;36m5\u001b[0m\u001b[0;34m]\u001b[0m\u001b[0;34m.\u001b[0m\u001b[0mastype\u001b[0m\u001b[0;34m(\u001b[0m\u001b[0mnp\u001b[0m\u001b[0;34m.\u001b[0m\u001b[0mint32\u001b[0m\u001b[0;34m)\u001b[0m\u001b[0;34m]\u001b[0m\u001b[0;34m)\u001b[0m\u001b[0;34m\u001b[0m\u001b[0;34m\u001b[0m\u001b[0m\n\u001b[0;32m----> 5\u001b[0;31m \u001b[0ma\u001b[0m\u001b[0;34m[\u001b[0m\u001b[0mb\u001b[0m\u001b[0;34m]\u001b[0m\u001b[0;34m\u001b[0m\u001b[0;34m\u001b[0m\u001b[0m\n\u001b[0m",
      "\u001b[0;31mIndexError\u001b[0m: arrays used as indices must be of integer (or boolean) type"
     ]
    }
   ],
   "source": [
    "a = np.arange(10)\n",
    "b = np.arange(10, dtype=np.float32)\n",
    "\n",
    "print(a[b[:5].astype(np.int32)])  # select from index 0 to 5 and convert to int32\n",
    "a[b]  # index a using b, but b is of type float32, so error is raised\n"
   ]
  },
  {
   "cell_type": "markdown",
   "metadata": {},
   "source": [
    "## Array Arithmetic\n",
    "\n",
    "Numpy supports elementwise arithmetic operations (+, -, \\*, /) and basic matrix operations (e.g. dot product, transpose. It's okay if you don't know what are these).\n"
   ]
  },
  {
   "cell_type": "code",
   "execution_count": 81,
   "metadata": {},
   "outputs": [
    {
     "name": "stdout",
     "output_type": "stream",
     "text": [
      "[[10 12 14]\n",
      " [16 18 20]]\n",
      "[[ 35  44]\n",
      " [134 170]]\n"
     ]
    }
   ],
   "source": [
    "a = np.arange(6).reshape(2, 3)\n",
    "b = np.arange(10, 16).reshape(2, 3)\n",
    "print(a + b)\n",
    "print(a @ b.T)  # a @ b.T is equivalent to np.dot(a, b.T). This is called matrix multiplication where b.T is the transpose of b. (Again, not necessary for you to know what this means exactly in this course)\n"
   ]
  },
  {
   "cell_type": "markdown",
   "metadata": {},
   "source": [
    "## Numpy Functions\n",
    "\n",
    "Numpy provides many different functions for performing computations on arrays. One of them would be numpy.sum()\n"
   ]
  },
  {
   "cell_type": "code",
   "execution_count": 94,
   "metadata": {},
   "outputs": [
    {
     "name": "stdout",
     "output_type": "stream",
     "text": [
      "[[0 1 2]\n",
      " [3 4 5]]\n",
      "15\n",
      "15\n",
      "[3 5 7]\n",
      "[ 3 12]\n",
      "0\n",
      "[0 1 2]\n",
      "[0 3]\n"
     ]
    }
   ],
   "source": [
    "a = np.arange(6).reshape(2, 3)\n",
    "print(a)\n",
    "print(np.sum(a))\n",
    "print(a.sum())  # this is equivalent to the previous line\n",
    "print(a.sum(axis=0))  # sum along the first axis\n",
    "print(a.sum(axis=1))  # sum along the second axis (0+1+2), (3+4+5)\n",
    "print(a.min())  # this is equivalent to the previous line\n",
    "print(a.min(axis=0))  # min along the first axis\n",
    "print(a.min(axis=1))  # min along the second axis\n"
   ]
  },
  {
   "cell_type": "markdown",
   "metadata": {},
   "source": [
    "## Broadcasting\n",
    "\n",
    "Broadcasting allows us to perform operations on arrays with different shapes. This function greatly reduce the redundancy of our codes and make it much more readible and shorter.\n",
    "\n",
    "However, there are a few rules (and steps) for this to works. (You can also refer to notes if it's unclear)\n",
    "1. Dimensions are matched from the last dimension to the first dimension (according to attribute ```shape```). If one of the array has less dimension, it is broadcastable as long as the array with lower dimensions can match all its shapes to the larger arrays.\n",
    "2. During matching, the dimension could be match if and only if,\n",
    "   1. Both of them are equal, or\n",
    "   2. One of the is equal to 1\n",
    "3. The content is copied across that specific dimension when the array is broadcasted."
   ]
  },
  {
   "cell_type": "code",
   "execution_count": 110,
   "metadata": {},
   "outputs": [
    {
     "ename": "ValueError",
     "evalue": "operands could not be broadcast together with shapes (2,4,3,3) (2,2,3,3) ",
     "output_type": "error",
     "traceback": [
      "\u001b[0;31m---------------------------------------------------------------------------\u001b[0m",
      "\u001b[0;31mValueError\u001b[0m                                Traceback (most recent call last)",
      "\u001b[0;32m/tmp/ipykernel_1471373/3625013588.py\u001b[0m in \u001b[0;36m<module>\u001b[0;34m\u001b[0m\n\u001b[1;32m     11\u001b[0m \u001b[0;34m\u001b[0m\u001b[0m\n\u001b[1;32m     12\u001b[0m \u001b[0me\u001b[0m \u001b[0;34m=\u001b[0m \u001b[0mnp\u001b[0m\u001b[0;34m.\u001b[0m\u001b[0mones\u001b[0m\u001b[0;34m(\u001b[0m\u001b[0;34m(\u001b[0m\u001b[0;36m2\u001b[0m\u001b[0;34m,\u001b[0m \u001b[0;36m2\u001b[0m\u001b[0;34m,\u001b[0m \u001b[0;36m3\u001b[0m\u001b[0;34m,\u001b[0m \u001b[0;36m3\u001b[0m\u001b[0;34m)\u001b[0m\u001b[0;34m)\u001b[0m\u001b[0;34m\u001b[0m\u001b[0;34m\u001b[0m\u001b[0m\n\u001b[0;32m---> 13\u001b[0;31m \u001b[0m_\u001b[0m \u001b[0;34m=\u001b[0m \u001b[0ma\u001b[0m \u001b[0;34m+\u001b[0m \u001b[0me\u001b[0m \u001b[0;31m# Error! Rule 2, at the second dimension, the dimension is neither matched nor neither is 1\u001b[0m\u001b[0;34m\u001b[0m\u001b[0;34m\u001b[0m\u001b[0m\n\u001b[0m",
      "\u001b[0;31mValueError\u001b[0m: operands could not be broadcast together with shapes (2,4,3,3) (2,2,3,3) "
     ]
    }
   ],
   "source": [
    "a = np.ones((2, 4, 3, 3))\n",
    "b = np.ones((4, 3, 3))\n",
    "\n",
    "_ = a + b  # Ok! Rule 1, b can match all if its dimensions to a from right to left\n",
    "\n",
    "c = np.ones((4, 3, 1))\n",
    "_ = a + c # Ok! Rule 2.2, dimension can be matched if they're equal or one of them is 1\n",
    "\n",
    "d = np.ones((2, 4, 3))\n",
    "_ = a + d # Error ! Rule 1, dimension is matched from the right to left\n",
    "\n",
    "e = np.ones((2, 2, 3, 3))\n",
    "_ = a + e # Error! Rule 2, at the second dimension, the dimension is neither matched nor neither is 1"
   ]
  },
  {
   "cell_type": "code",
   "execution_count": 2,
   "metadata": {},
   "outputs": [
    {
     "name": "stdout",
     "output_type": "stream",
     "text": [
      "[[ 1  1  2  4]\n",
      " [ 5  5  6  8]\n",
      " [ 9  9 10 12]]\n",
      "[[ 1  2  3  4]\n",
      " [ 4  5  6  7]\n",
      " [ 9 10 11 12]]\n",
      "[[ 1  2  3  4]\n",
      " [ 4  5  6  7]\n",
      " [ 9 10 11 12]]\n",
      "(3, 1)\n"
     ]
    },
    {
     "ename": "ValueError",
     "evalue": "operands could not be broadcast together with shapes (3,4) (3,) ",
     "output_type": "error",
     "traceback": [
      "\u001b[0;31m---------------------------------------------------------------------------\u001b[0m",
      "\u001b[0;31mValueError\u001b[0m                                Traceback (most recent call last)",
      "\u001b[0;32m/tmp/ipykernel_136203/2605282118.py\u001b[0m in \u001b[0;36m<module>\u001b[0;34m\u001b[0m\n\u001b[1;32m      8\u001b[0m \u001b[0mprint\u001b[0m\u001b[0;34m(\u001b[0m\u001b[0mx\u001b[0m \u001b[0;34m+\u001b[0m \u001b[0moffset2\u001b[0m\u001b[0;34m[\u001b[0m\u001b[0;34m:\u001b[0m\u001b[0;34m,\u001b[0m \u001b[0mnp\u001b[0m\u001b[0;34m.\u001b[0m\u001b[0mnewaxis\u001b[0m\u001b[0;34m]\u001b[0m\u001b[0;34m)\u001b[0m \u001b[0;31m# this line adds a new axis so that the shape of offset2 becomes (3, 1)\u001b[0m\u001b[0;34m\u001b[0m\u001b[0;34m\u001b[0m\u001b[0m\n\u001b[1;32m      9\u001b[0m \u001b[0mprint\u001b[0m\u001b[0;34m(\u001b[0m\u001b[0moffset2\u001b[0m\u001b[0;34m.\u001b[0m\u001b[0mreshape\u001b[0m\u001b[0;34m(\u001b[0m\u001b[0;36m3\u001b[0m\u001b[0;34m,\u001b[0m \u001b[0;34m-\u001b[0m\u001b[0;36m1\u001b[0m\u001b[0;34m)\u001b[0m\u001b[0;34m.\u001b[0m\u001b[0mshape\u001b[0m\u001b[0;34m)\u001b[0m\u001b[0;34m\u001b[0m\u001b[0;34m\u001b[0m\u001b[0m\n\u001b[0;32m---> 10\u001b[0;31m \u001b[0mprint\u001b[0m\u001b[0;34m(\u001b[0m\u001b[0mx\u001b[0m \u001b[0;34m+\u001b[0m \u001b[0moffset2\u001b[0m\u001b[0;34m)\u001b[0m\u001b[0;34m\u001b[0m\u001b[0;34m\u001b[0m\u001b[0m\n\u001b[0m",
      "\u001b[0;31mValueError\u001b[0m: operands could not be broadcast together with shapes (3,4) (3,) "
     ]
    }
   ],
   "source": [
    "import numpy as np\n",
    "x = np.arange(12).reshape(3, 4)\n",
    "offset = np.array([1, 0, 0, 1])\n",
    "offset2 = np.array([1, 0, 1])\n",
    "\n",
    "print(x + offset) # offset is copied to all the elements of x\n",
    "print(x + offset2.reshape(3, 1)) # this line adds a new axis so that the shape of offset2 becomes (3, 1)\n",
    "print(x + offset2[:, np.newaxis]) # Serve the same purpose than the previous line, but not neccessarily the same all the time. Please read the docs if you're interested\n",
    "print(offset2.reshape(3, -1).shape)\n",
    "print(x + offset2)\n"
   ]
  },
  {
   "cell_type": "markdown",
   "metadata": {},
   "source": [
    "# Conclusion\n",
    "\n",
    "Numpy provides a wide variety functions to enable efficient scientific researches and engineering calculations. It keeps the simplicity of Python while allowing users to do complex computation tasks. It is a very important and useful tools if you want to dive deeper into the field of machine learnings. Even though you might use other libraries in the future, many of the functions in Numpy is transferable.\n"
   ]
  }
 ],
 "metadata": {
  "interpreter": {
   "hash": "31f2aee4e71d21fbe5cf8b01ff0e069b9275f58929596ceb00d14d90e3e16cd6"
  },
  "kernelspec": {
   "display_name": "Python 3.9.7 64-bit",
   "language": "python",
   "name": "python3"
  },
  "language_info": {
   "codemirror_mode": {
    "name": "ipython",
    "version": 3
   },
   "file_extension": ".py",
   "mimetype": "text/x-python",
   "name": "python",
   "nbconvert_exporter": "python",
   "pygments_lexer": "ipython3",
   "version": "3.9.7"
  },
  "orig_nbformat": 4
 },
 "nbformat": 4,
 "nbformat_minor": 2
}
